{
 "cells": [
  {
   "cell_type": "markdown",
   "metadata": {},
   "source": [
    "# Examples of DialogEvent class and its component classes."
   ]
  },
  {
   "cell_type": "code",
   "execution_count": 1,
   "metadata": {},
   "outputs": [],
   "source": [
    "#add ../src to the path ready for python to find it\n",
    "import sys\n",
    "import os\n",
    "\n",
    "# Add the src directory to the Python path\n",
    "sys.path.append(os.path.abspath(os.path.join('..', 'src')))"
   ]
  },
  {
   "cell_type": "markdown",
   "metadata": {},
   "source": [
    "## Intantiate using contructors\n",
    "\n",
    "This code shows how all of the types `Span`, `Token`, `Feature` and `DialogEvent` can all be instantiated directly via their constructors"
   ]
  },
  {
   "cell_type": "code",
   "execution_count": 2,
   "metadata": {},
   "outputs": [
    {
     "name": "stdout",
     "output_type": "stream",
     "text": [
      "{\n",
      "    \"id\": \"1\",\n",
      "    \"speakerUri\": \"tag:userproxy.com,2025:abc123\",\n",
      "    \"span\": {\n",
      "        \"startTime\": \"2025-05-09T18:56:14.001220\"\n",
      "    },\n",
      "    \"features\": {\n",
      "        \"text\": {\n",
      "            \"mimeType\": \"text/plain\",\n",
      "            \"tokens\": [\n",
      "                {\n",
      "                    \"value\": \"Hello, world!\"\n",
      "                }\n",
      "            ]\n",
      "        }\n",
      "    }\n",
      "}\n"
     ]
    }
   ],
   "source": [
    "from openfloor import DialogEvent, Span, Feature, Token\n",
    "from datetime import datetime\n",
    "\n",
    "span=Span(startTime=datetime.now())\n",
    "text_feature=Feature(mimeType=\"text/plain\", tokens=[Token(value=\"Hello, world!\")])\n",
    "utterance=DialogEvent(\n",
    "    id=\"1\",\n",
    "    span=span,\n",
    "    speakerUri=\"tag:userproxy.com,2025:abc123\",\n",
    "    features={\"text\":text_feature}\n",
    ")\n",
    "utterance[\"arbitrary_field\"]=\"arbitrary_value\"\n",
    "print(utterance.to_json(indent=4))"
   ]
  },
  {
   "cell_type": "markdown",
   "metadata": {},
   "source": [
    "The same thing can be achieved by the following code.  The DialogEvent uses a default Span object which defaults the startTime to datetime.now().  The TextFeature class sets the mimeType to 'plainText' and also takes a parameter 'values' which is a convenient way to specify the text in an array of tokens."
   ]
  },
  {
   "cell_type": "code",
   "execution_count": 3,
   "metadata": {},
   "outputs": [
    {
     "name": "stdout",
     "output_type": "stream",
     "text": [
      "{\n",
      "    \"id\": \"de:007f29b4-3343-4b3c-83b9-bb45dfed9c1b\",\n",
      "    \"speakerUri\": \"tag:userproxy.com,2025:abc123\",\n",
      "    \"span\": {\n",
      "        \"startTime\": \"2025-05-09T18:56:14.009556\"\n",
      "    },\n",
      "    \"features\": {\n",
      "        \"text\": {\n",
      "            \"mimeType\": \"text/plain\",\n",
      "            \"tokens\": [\n",
      "                {\n",
      "                    \"value\": \"Hello, world!\"\n",
      "                }\n",
      "            ]\n",
      "        }\n",
      "    }\n",
      "}\n"
     ]
    }
   ],
   "source": [
    "from openfloor import TextFeature, DialogEvent\n",
    "\n",
    "utterance=DialogEvent(\n",
    "    speakerUri=\"tag:userproxy.com,2025:abc123\",\n",
    "    features={\"text\":TextFeature(values=[\"Hello, world!\"])}\n",
    ")\n",
    "print(utterance.to_json(indent=4))"
   ]
  },
  {
   "cell_type": "markdown",
   "metadata": {},
   "source": [
    "## Instantiate from dictionaries. \n",
    "\n",
    "This code shows how all of the types `Span`, `Token`, `Feature` and `DialogEvent` can all be instantiated from dictionaries (i.e. json importable/exportable objects)"
   ]
  },
  {
   "cell_type": "code",
   "execution_count": 4,
   "metadata": {},
   "outputs": [
    {
     "name": "stdout",
     "output_type": "stream",
     "text": [
      "{\"startTime\": \"2025-05-09T18:56:14.019398\"}\n",
      "{\"value\": \"hello\", \"confidence\": 0.95}\n",
      "{\"mimeType\": \"text/plain\", \"tokens\": [{\"value\": \"hello\"}]}\n",
      "{\"id\": \"de:603ddb88-9e36-4361-bd31-a0c4df577a4a\", \"speakerUri\": \"tag:userproxy.com,2025:abc123\", \"span\": {\"startTime\": \"2025-05-09T18:56:14.019877\"}, \"features\": {\"text\": {\"mimeType\": \"text/plain\", \"tokens\": [{\"value\": \"hello\"}]}}}\n"
     ]
    }
   ],
   "source": [
    "from openfloor import Span, Token, Feature, DialogEvent\n",
    "\n",
    "# Create a Span from JSON\n",
    "span_json = '{\"startTime\": \"2024-03-14T12:00:00.000000\"}'\n",
    "span = Span.from_json(span_json)\n",
    "print(span.to_json())\n",
    "\n",
    "# Create a Token from JSON\n",
    "token_json = '{\"value\": \"hello\", \"confidence\": 0.95}'\n",
    "token = Token.from_json(token_json)\n",
    "print(token.to_json())\n",
    "\n",
    "# Create a Feature from JSON\n",
    "feature_json = '{\"mimeType\": \"text/plain\", \"tokens\": [{\"value\": \"hello\"}]}'\n",
    "feature = Feature.from_json(feature_json)\n",
    "print(feature.to_json())\n",
    "\n",
    "# Create a DialogEvent from JSON\n",
    "dialog_event_json = '{\"speakerUri\": \"tag:userproxy.com,2025:abc123\", \"span\": {\"startTime\": \"2024-03-14T12:00:00.000000\"}, \"features\": {\"text\": {\"mimeType\": \"text/plain\", \"tokens\": [{\"value\": \"hello\"}]}}}'\n",
    "dialog_event = DialogEvent.from_json(dialog_event_json)\n",
    "print(dialog_event.to_json())\n"
   ]
  },
  {
   "cell_type": "markdown",
   "metadata": {},
   "source": [
    "## Intantiate from JSON file\n",
    "\n",
    "All the objects can be instantiated from JSON files.  Here's an example of reading a whole `DialogEvent` event from file.  The types `Span`, `Token` and `Feature` can also be read from file in a similar way."
   ]
  },
  {
   "cell_type": "code",
   "execution_count": 5,
   "metadata": {},
   "outputs": [
    {
     "name": "stdout",
     "output_type": "stream",
     "text": [
      "{\n",
      "    \"id\": \"user-utterance-45\",\n",
      "    \"speakerUri\": \"tag:userproxy.com,2025:abc123\",\n",
      "    \"span\": {\n",
      "        \"startTime\": \"2025-05-09T18:56:14.032637\",\n",
      "        \"endOffset\": \"PT0S\"\n",
      "    },\n",
      "    \"features\": {\n",
      "        \"user-request-audio\": {\n",
      "            \"mimeType\": \"audio/wav\",\n",
      "            \"tokens\": [\n",
      "                {\n",
      "                    \"valueUrl\": \"http://localhost:8080/ab78h50ef.wav\"\n",
      "                }\n",
      "            ]\n",
      "        },\n",
      "        \"user-request-text\": {\n",
      "            \"mimeType\": \"text/plain\",\n",
      "            \"tokens\": [\n",
      "                {\n",
      "                    \"value\": \"what is the weather forecast for tomorrow?\",\n",
      "                    \"span\": {\n",
      "                        \"startOffset\": \"PT0S\",\n",
      "                        \"endOffset\": \"PT0S\"\n",
      "                    },\n",
      "                    \"confidence\": 0.99,\n",
      "                    \"links\": [\n",
      "                        \"$.user-request-audio.tokens[0].valueUrl\"\n",
      "                    ]\n",
      "                },\n",
      "                {\n",
      "                    \"value\": \"what is the weather forecast for tuesday?\",\n",
      "                    \"span\": {\n",
      "                        \"startOffset\": \"PT0S\",\n",
      "                        \"endOffset\": \"PT0S\"\n",
      "                    },\n",
      "                    \"confidence\": 0.87\n",
      "                }\n",
      "            ],\n",
      "            \"lang\": \"en\",\n",
      "            \"encoding\": \"utf-8\"\n",
      "        }\n",
      "    },\n",
      "    \"previousId\": \"user-utterance-44\"\n",
      "}\n"
     ]
    }
   ],
   "source": [
    "from openfloor import Span, Token, Feature, DialogEvent\n",
    "\n",
    "# Read a dialog event from a file\n",
    "dialog_event = DialogEvent.from_file(\"../sample_json/dialog_event1.json\")\n",
    "\n",
    "#print indent in pretty json format\n",
    "print(dialog_event.to_json(indent=4))"
   ]
  },
  {
   "cell_type": "markdown",
   "metadata": {},
   "source": [
    "## Resolving links between tokens\n",
    "\n",
    "Dialog event tokens can refer to other tokens in the same dialog event.   The following code reads the same JSON file as above and finds links between tokens by resolving the Json Path links."
   ]
  },
  {
   "cell_type": "code",
   "execution_count": 6,
   "metadata": {},
   "outputs": [
    {
     "name": "stdout",
     "output_type": "stream",
     "text": [
      "feature: {'mimeType': 'audio/wav', 'tokens': [Token(value=None, valueUrl='http://localhost:8080/ab78h50ef.wav', span=None, confidence=None, links=[])], 'alternates': [], 'lang': None, 'encoding': None, 'tokenSchema': None}\n",
      "  token: {'value': None, 'valueUrl': 'http://localhost:8080/ab78h50ef.wav', 'span': None, 'confidence': None, 'links': []}\n",
      "  linked_values: []\n",
      "feature: {'mimeType': 'text/plain', 'tokens': [Token(value='what is the weather forecast for tomorrow?', valueUrl=None, span=Span(startTime=None, startOffset=datetime.timedelta(0), endTime=None, endOffset=datetime.timedelta(0)), confidence=0.99, links=['$.user-request-audio.tokens[0].valueUrl']), Token(value='what is the weather forecast for tuesday?', valueUrl=None, span=Span(startTime=None, startOffset=datetime.timedelta(0), endTime=None, endOffset=datetime.timedelta(0)), confidence=0.87, links=[])], 'alternates': [], 'lang': 'en', 'encoding': 'utf-8', 'tokenSchema': None}\n",
      "  token: {'value': 'what is the weather forecast for tomorrow?', 'valueUrl': None, 'span': Span(startTime=None, startOffset=datetime.timedelta(0), endTime=None, endOffset=datetime.timedelta(0)), 'confidence': 0.99, 'links': ['$.user-request-audio.tokens[0].valueUrl']}\n",
      "  linked_values: [[Child(Child(Child(Fields('user-request-audio'), Fields('tokens')), Index(index=0)), Fields('valueUrl')), 'http://localhost:8080/ab78h50ef.wav']]\n",
      "  token: {'value': 'what is the weather forecast for tuesday?', 'valueUrl': None, 'span': Span(startTime=None, startOffset=datetime.timedelta(0), endTime=None, endOffset=datetime.timedelta(0)), 'confidence': 0.87, 'links': []}\n",
      "  linked_values: []\n"
     ]
    }
   ],
   "source": [
    "from openfloor import Span, Token, Feature, DialogEvent\n",
    "\n",
    "# Read a dialog event from a file\n",
    "dialog_event = DialogEvent.from_file(\"../sample_json/dialog_event1.json\")\n",
    "\n",
    "#now resolve the links\n",
    "for feature_name, feature in dialog_event.features.items():\n",
    "    print(f\"feature: {feature}\")\n",
    "    tokens=feature.tokens\n",
    "    for token in tokens:\n",
    "        linked_values=token.linked_values(dialog_event)\n",
    "        print(f\"  token: {token}\")\n",
    "        print(f'  linked_values: {linked_values}')"
   ]
  }
 ],
 "metadata": {
  "kernelspec": {
   "display_name": "Python 3",
   "language": "python",
   "name": "python3"
  },
  "language_info": {
   "codemirror_mode": {
    "name": "ipython",
    "version": 3
   },
   "file_extension": ".py",
   "mimetype": "text/x-python",
   "name": "python",
   "nbconvert_exporter": "python",
   "pygments_lexer": "ipython3",
   "version": "3.12.7"
  }
 },
 "nbformat": 4,
 "nbformat_minor": 2
}
