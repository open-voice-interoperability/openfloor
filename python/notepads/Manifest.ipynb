{
 "cells": [
  {
   "cell_type": "markdown",
   "metadata": {},
   "source": [
    "# "
   ]
  },
  {
   "cell_type": "markdown",
   "metadata": {},
   "source": [
    "# Using the Manifest class\n",
    "\n",
    "The `Manifest` class is a simple data class that is used to publish the identity and capabilities of an agent or conversant.   This noteboook shows how this class can be instantiated using different methods."
   ]
  },
  {
   "cell_type": "code",
   "execution_count": 1,
   "metadata": {},
   "outputs": [],
   "source": [
    "#add ../src to the path ready for python to find it\n",
    "import sys\n",
    "import os\n",
    "\n",
    "# Add the src directory to the Python path\n",
    "sys.path.append(os.path.abspath(os.path.join('..', 'src')))"
   ]
  },
  {
   "cell_type": "markdown",
   "metadata": {},
   "source": [
    "## Build a Manifest using constructors"
   ]
  },
  {
   "cell_type": "code",
   "execution_count": 2,
   "metadata": {},
   "outputs": [
    {
     "name": "stdout",
     "output_type": "stream",
     "text": [
      "{\"identification\": {\"speakerUri\": \"tag:dev.travelbot,2025:0001\", \"serviceUrl\": \"https://dev.travelbot.ee/openfloor/conversation\", \"organization\": \"Travelbot Inc.\", \"conversationalName\": \"travelbot\", \"department\": \"Reservations and Customer Service\", \"role\": \"Reservation Specialist\", \"synopsis\": \"Reservation specialist as part of the Travelbot system.\"}, \"capabilities\": [{\"keyphrases\": [\"book\", \"reserve\", \"flight\", \"hotel\", \"car\", \"cruise\"], \"descriptions\": [\"book flights, hotels, cars, and cruises\"], \"languages\": [\"en-us\"], \"supportedLayers\": {\"input\": [\"text\"], \"output\": [\"text\"]}}, {\"keyphrases\": [\"billing\", \"payment\", \"invoice\", \"receipt\"], \"descriptions\": [\"Respond to enquiries about billing, payments, and invoices\"], \"languages\": [\"en-us\"], \"supportedLayers\": {\"input\": [\"text\"], \"output\": [\"text\"]}}]}\n"
     ]
    }
   ],
   "source": [
    "from openfloor import *\n",
    "\n",
    "#Create a manifest\n",
    "manifest = Manifest(\n",
    "  identification = Identification(\n",
    "    speakerUri=\"tag:dev.travelbot,2025:0001\", \n",
    "    serviceUrl=\"https://dev.travelbot.ee/openfloor/conversation\",\n",
    "    organization=\"Travelbot Inc.\",\n",
    "    conversationalName=\"travelbot\",\n",
    "    department=\"Reservations and Customer Service\",\n",
    "    role=\"Reservation Specialist\",\n",
    "    synopsis=\"Reservation specialist as part of the Travelbot system.\"),\n",
    "  capabilities = [\n",
    "    Capability(\n",
    "        keyphrases=[\"book\",\"reserve\",\"flight\",\"hotel\",\"car\",\"cruise\"], \n",
    "        descriptions=[\"book flights, hotels, cars, and cruises\"], \n",
    "        languages=[\"en-us\"],\n",
    "        supportedLayers=SupportedLayers(input=[\"text\"], output=[\"text\"])\n",
    "    ),\n",
    "    Capability(\n",
    "        keyphrases=[\"billing\",\"payment\",\"invoice\",\"receipt\"], \n",
    "        descriptions=[\"Respond to enquiries about billing, payments, and invoices\"], \n",
    "        languages=[\"en-us\"],\n",
    "        supportedLayers=SupportedLayers(input=[\"text\"], output=[\"text\"])\n",
    "    )\n",
    "  ]\n",
    ")\n",
    "\n",
    "#Print the manifest\n",
    "print(manifest.to_json())"
   ]
  },
  {
   "cell_type": "markdown",
   "metadata": {},
   "source": [
    "## Create Manifest from JSON string"
   ]
  },
  {
   "cell_type": "code",
   "execution_count": 5,
   "metadata": {},
   "outputs": [
    {
     "name": "stdout",
     "output_type": "stream",
     "text": [
      "{\"identification\": {\"speakerUri\": \"tag:dev.travelbot,2025:0001\", \"serviceUrl\": \"https://dev.travelbot.ee/openfloor/conversation\", \"organization\": \"Travelbot Inc.\", \"conversationalName\": \"travelbot\", \"department\": \"Reservations and Customer Service\", \"role\": \"Reservation Specialist\", \"synopsis\": \"Reservation specialist as part of the Travelbot system.\"}, \"capabilities\": [{\"keyphrases\": [\"book\", \"reserve\", \"flight\", \"hotel\", \"car\", \"cruise\"], \"descriptions\": [\"book flights, hotels, cars, and cruises\"], \"languages\": [\"en-us\"], \"supportedLayers\": {\"input\": [\"text\"], \"output\": [\"text\"]}}, {\"keyphrases\": [\"billing\", \"payment\", \"invoice\", \"receipt\"], \"descriptions\": [\"Respond to enquiries about billing, payments, and invoices\"], \"languages\": [\"en-us\"], \"supportedLayers\": {\"input\": [\"text\"], \"output\": [\"text\"]}}]}\n"
     ]
    }
   ],
   "source": [
    "manifest_json='{\"identification\": {\"speakerUri\": \"tag:dev.travelbot,2025:0001\", \"serviceUrl\": \"https://dev.travelbot.ee/openfloor/conversation\", \"organization\": \"Travelbot Inc.\", \"conversationalName\": \"travelbot\", \"department\": \"Reservations and Customer Service\", \"role\": \"Reservation Specialist\", \"synopsis\": \"Reservation specialist as part of the Travelbot system.\"}, \"capabilities\": [{\"keyphrases\": [\"book\", \"reserve\", \"flight\", \"hotel\", \"car\", \"cruise\"], \"descriptions\": [\"book flights, hotels, cars, and cruises\"], \"languages\": [\"en-us\"], \"supportedLayers\": {\"input\": [\"text\"], \"output\": [\"text\"]}}, {\"keyphrases\": [\"billing\", \"payment\", \"invoice\", \"receipt\"], \"descriptions\": [\"Respond to enquiries about billing, payments, and invoices\"], \"languages\": [\"en-us\"], \"supportedLayers\": {\"input\": [\"text\"], \"output\": [\"text\"]}}]}'\n",
    "\n",
    "manifest=Manifest.from_json(manifest_json)\n",
    "print(manifest.to_json())"
   ]
  },
  {
   "cell_type": "markdown",
   "metadata": {},
   "source": [
    "# Save To File and Load Again"
   ]
  },
  {
   "cell_type": "code",
   "execution_count": 6,
   "metadata": {},
   "outputs": [
    {
     "name": "stdout",
     "output_type": "stream",
     "text": [
      "{\"identification\": {\"speakerUri\": \"tag:dev.travelbot,2025:0001\", \"serviceUrl\": \"https://dev.travelbot.ee/openfloor/conversation\", \"organization\": \"Travelbot Inc.\", \"conversationalName\": \"travelbot\", \"department\": \"Reservations and Customer Service\", \"role\": \"Reservation Specialist\", \"synopsis\": \"Reservation specialist as part of the Travelbot system.\"}, \"capabilities\": [{\"keyphrases\": [\"book\", \"reserve\", \"flight\", \"hotel\", \"car\", \"cruise\"], \"descriptions\": [\"book flights, hotels, cars, and cruises\"], \"languages\": [\"en-us\"], \"supportedLayers\": {\"input\": [\"text\"], \"output\": [\"text\"]}}, {\"keyphrases\": [\"billing\", \"payment\", \"invoice\", \"receipt\"], \"descriptions\": [\"Respond to enquiries about billing, payments, and invoices\"], \"languages\": [\"en-us\"], \"supportedLayers\": {\"input\": [\"text\"], \"output\": [\"text\"]}}]}\n"
     ]
    }
   ],
   "source": [
    "#Save to json file\n",
    "manifest.to_file(\"../sample_json/manifest1.json\")\n",
    "#Load from json file\n",
    "manifest=Manifest.from_file(\"../sample_json/manifest1.json\")\n",
    "print(manifest.to_json())"
   ]
  }
 ],
 "metadata": {
  "kernelspec": {
   "display_name": "Python 3",
   "language": "python",
   "name": "python3"
  },
  "language_info": {
   "codemirror_mode": {
    "name": "ipython",
    "version": 3
   },
   "file_extension": ".py",
   "mimetype": "text/x-python",
   "name": "python",
   "nbconvert_exporter": "python",
   "pygments_lexer": "ipython3",
   "version": "3.12.7"
  }
 },
 "nbformat": 4,
 "nbformat_minor": 2
}
